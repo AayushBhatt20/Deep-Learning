{
 "cells": [
  {
   "cell_type": "markdown",
   "metadata": {},
   "source": [
    "Nmae : Bhatt Aayush U\n",
    "\n",
    "Subject : Deep Learning and its applications\n",
    "\n",
    "Github Link : https://github.com/AayushBhatt20/Deep-Learning"
   ]
  },
  {
   "cell_type": "markdown",
   "metadata": {},
   "source": [
    "# Task-1"
   ]
  },
  {
   "cell_type": "markdown",
   "metadata": {},
   "source": [
    "Implement simple perceptron from scratch without using any bulitin function "
   ]
  },
  {
   "cell_type": "markdown",
   "metadata": {},
   "source": [
    "Step-1. Here predict function takes test inpur data and modified weights as inputs and returns our\n",
    "predicted output"
   ]
  },
  {
   "cell_type": "code",
   "execution_count": 43,
   "metadata": {},
   "outputs": [],
   "source": [
    "def predict(row, weights):\n",
    "    activation = weights[0]\n",
    "    for i in range(len(row)-1):\n",
    "        activation += weights[i + 1] * row[i]\n",
    "    return 1.0 if activation >= 0.0 else 0.0"
   ]
  },
  {
   "cell_type": "markdown",
   "metadata": {},
   "source": [
    "Step-2. Here we have estimated Perceptron weights using stochastic gradient descent"
   ]
  },
  {
   "cell_type": "code",
   "execution_count": 44,
   "metadata": {},
   "outputs": [],
   "source": [
    "def train_weights(train, l_rate, n_epoch):\n",
    "    weights = [0.0 for i in range(len(train[0]))]\n",
    "    print(\"Weights before training (Initial weights) :\",weights)\n",
    "    n_epoch = int(input(\"\\nEnter number of epoch : \"))\n",
    "    l_rate = float(input(\"\\nEnter Learning Rate :\"))\n",
    "    for epoch in range(n_epoch):\n",
    "        sum_error = 0.0\n",
    "        for row in train:\n",
    "            prediction = predict(row, weights)\n",
    "            error = row[-1] - prediction\n",
    "            sum_error += error**2\n",
    "            weights[0] = weights[0] + l_rate * error\n",
    "            for i in range(len(row)-1):\n",
    "                weights[i + 1] = weights[i + 1] + l_rate * error * row[i]\n",
    "        print('\\nepoch=%d, learning rate = %.3f, error = %.3f' % (epoch, l_rate, sum_error))\n",
    "    return weights"
   ]
  },
  {
   "cell_type": "markdown",
   "metadata": {},
   "source": [
    "Step-3. Here 'dataset' is our training dataset. Training data consist of 3 input values and 1 output values"
   ]
  },
  {
   "cell_type": "code",
   "execution_count": 45,
   "metadata": {},
   "outputs": [
    {
     "name": "stdout",
     "output_type": "stream",
     "text": [
      "Weights before training (Initial weights) : [0.0, 0.0, 0.0, 0.0]\n",
      "\n",
      "Enter number of epoch : 10\n",
      "\n",
      "Enter Learning Rate :0.1\n",
      "\n",
      "epoch=0, learning rate = 0.100, error = 2.000\n",
      "\n",
      "epoch=1, learning rate = 0.100, error = 1.000\n",
      "\n",
      "epoch=2, learning rate = 0.100, error = 2.000\n",
      "\n",
      "epoch=3, learning rate = 0.100, error = 1.000\n",
      "\n",
      "epoch=4, learning rate = 0.100, error = 2.000\n",
      "\n",
      "epoch=5, learning rate = 0.100, error = 1.000\n",
      "\n",
      "epoch=6, learning rate = 0.100, error = 1.000\n",
      "\n",
      "epoch=7, learning rate = 0.100, error = 0.000\n",
      "\n",
      "epoch=8, learning rate = 0.100, error = 0.000\n",
      "\n",
      "epoch=9, learning rate = 0.100, error = 0.000\n",
      "\n",
      "Weights after training: [-0.4, 0.5000000000000001, 0.09999999999999992, -0.30000000000000004]\n",
      "\n",
      "Predicted output :  1.0\n"
     ]
    }
   ],
   "source": [
    "dataset =[[1,2,3,0],\n",
    "          [4,5,6,1],\n",
    "          [7,8,9,1]]\n",
    "weights = train_weights(dataset, l_rate, n_epoch)\n",
    "print(\"\\nWeights after training:\",weights)\n",
    "testdata = [4,8,7]\n",
    "print(\"\\nPredicted output : \",predict(testdata,weights))"
   ]
  }
 ],
 "metadata": {
  "kernelspec": {
   "display_name": "Python 3",
   "language": "python",
   "name": "python3"
  },
  "language_info": {
   "codemirror_mode": {
    "name": "ipython",
    "version": 3
   },
   "file_extension": ".py",
   "mimetype": "text/x-python",
   "name": "python",
   "nbconvert_exporter": "python",
   "pygments_lexer": "ipython3",
   "version": "3.8.3"
  }
 },
 "nbformat": 4,
 "nbformat_minor": 4
}
