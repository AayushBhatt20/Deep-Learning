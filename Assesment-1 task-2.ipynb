{
 "cells": [
  {
   "cell_type": "markdown",
   "metadata": {},
   "source": [
    "# Task-2"
   ]
  },
  {
   "cell_type": "markdown",
   "metadata": {},
   "source": [
    "Implement a perceptron model by using builtin function and take input which is publicly available online in form of excelfile, csv etc "
   ]
  },
  {
   "cell_type": "code",
   "execution_count": 1,
   "metadata": {},
   "outputs": [],
   "source": [
    "import numpy as np\n",
    "import pandas as pd"
   ]
  },
  {
   "cell_type": "markdown",
   "metadata": {},
   "source": [
    "Here we have used cryotherapy dataset to predict the result of treatment"
   ]
  },
  {
   "cell_type": "code",
   "execution_count": 2,
   "metadata": {},
   "outputs": [
    {
     "data": {
      "text/html": [
       "<div>\n",
       "<style scoped>\n",
       "    .dataframe tbody tr th:only-of-type {\n",
       "        vertical-align: middle;\n",
       "    }\n",
       "\n",
       "    .dataframe tbody tr th {\n",
       "        vertical-align: top;\n",
       "    }\n",
       "\n",
       "    .dataframe thead th {\n",
       "        text-align: right;\n",
       "    }\n",
       "</style>\n",
       "<table border=\"1\" class=\"dataframe\">\n",
       "  <thead>\n",
       "    <tr style=\"text-align: right;\">\n",
       "      <th></th>\n",
       "      <th>sex</th>\n",
       "      <th>age</th>\n",
       "      <th>Time</th>\n",
       "      <th>Number_of_Warts</th>\n",
       "      <th>Type</th>\n",
       "      <th>Area</th>\n",
       "      <th>Result_of_Treatment</th>\n",
       "    </tr>\n",
       "  </thead>\n",
       "  <tbody>\n",
       "    <tr>\n",
       "      <th>0</th>\n",
       "      <td>1</td>\n",
       "      <td>35</td>\n",
       "      <td>12.00</td>\n",
       "      <td>5</td>\n",
       "      <td>1</td>\n",
       "      <td>100</td>\n",
       "      <td>0</td>\n",
       "    </tr>\n",
       "    <tr>\n",
       "      <th>1</th>\n",
       "      <td>1</td>\n",
       "      <td>29</td>\n",
       "      <td>7.00</td>\n",
       "      <td>5</td>\n",
       "      <td>1</td>\n",
       "      <td>96</td>\n",
       "      <td>1</td>\n",
       "    </tr>\n",
       "    <tr>\n",
       "      <th>2</th>\n",
       "      <td>1</td>\n",
       "      <td>50</td>\n",
       "      <td>8.00</td>\n",
       "      <td>1</td>\n",
       "      <td>3</td>\n",
       "      <td>132</td>\n",
       "      <td>0</td>\n",
       "    </tr>\n",
       "    <tr>\n",
       "      <th>3</th>\n",
       "      <td>1</td>\n",
       "      <td>32</td>\n",
       "      <td>11.75</td>\n",
       "      <td>7</td>\n",
       "      <td>3</td>\n",
       "      <td>750</td>\n",
       "      <td>0</td>\n",
       "    </tr>\n",
       "    <tr>\n",
       "      <th>4</th>\n",
       "      <td>1</td>\n",
       "      <td>67</td>\n",
       "      <td>9.25</td>\n",
       "      <td>1</td>\n",
       "      <td>1</td>\n",
       "      <td>42</td>\n",
       "      <td>0</td>\n",
       "    </tr>\n",
       "  </tbody>\n",
       "</table>\n",
       "</div>"
      ],
      "text/plain": [
       "   sex  age   Time  Number_of_Warts  Type  Area  Result_of_Treatment\n",
       "0    1   35  12.00                5     1   100                    0\n",
       "1    1   29   7.00                5     1    96                    1\n",
       "2    1   50   8.00                1     3   132                    0\n",
       "3    1   32  11.75                7     3   750                    0\n",
       "4    1   67   9.25                1     1    42                    0"
      ]
     },
     "execution_count": 2,
     "metadata": {},
     "output_type": "execute_result"
    }
   ],
   "source": [
    "df = pd.read_excel(\"https://archive.ics.uci.edu/ml/machine-learning-databases/00429/Cryotherapy.xlsx\")\n",
    "\n",
    "# head() returns first 5 tuples of the given dataframe\n",
    "\n",
    "df.head()"
   ]
  },
  {
   "cell_type": "markdown",
   "metadata": {},
   "source": [
    "x = input features and y = output labels"
   ]
  },
  {
   "cell_type": "markdown",
   "metadata": {},
   "source": [
    "# Data Preprocessing"
   ]
  },
  {
   "cell_type": "markdown",
   "metadata": {},
   "source": [
    "Shape attribute gives information about number of rows and columns in our dataframe"
   ]
  },
  {
   "cell_type": "code",
   "execution_count": 7,
   "metadata": {},
   "outputs": [
    {
     "data": {
      "text/plain": [
       "(90, 7)"
      ]
     },
     "execution_count": 7,
     "metadata": {},
     "output_type": "execute_result"
    }
   ],
   "source": [
    "df.shape"
   ]
  },
  {
   "cell_type": "code",
   "execution_count": 6,
   "metadata": {},
   "outputs": [
    {
     "name": "stdout",
     "output_type": "stream",
     "text": [
      "    sex  age   Time  Number_of_Warts  Type  Area\n",
      "0     1   35  12.00                5     1   100\n",
      "1     1   29   7.00                5     1    96\n",
      "2     1   50   8.00                1     3   132\n",
      "3     1   32  11.75                7     3   750\n",
      "4     1   67   9.25                1     1    42\n",
      "..  ...  ...    ...              ...   ...   ...\n",
      "85    2   34  12.00                3     3    95\n",
      "86    2   20   3.50                6     1    75\n",
      "87    2   35   8.25                8     3   100\n",
      "88    1   24  10.75               10     1    20\n",
      "89    1   19   8.00                8     1   160\n",
      "\n",
      "[90 rows x 6 columns]\n",
      "0     0\n",
      "1     1\n",
      "2     0\n",
      "3     0\n",
      "4     0\n",
      "     ..\n",
      "85    0\n",
      "86    1\n",
      "87    0\n",
      "88    1\n",
      "89    1\n",
      "Name: Result_of_Treatment, Length: 90, dtype: int64\n"
     ]
    }
   ],
   "source": [
    "from sklearn.model_selection import train_test_split\n",
    "x = df.drop('Result_of_Treatment',axis = 1)\n",
    "y = df['Result_of_Treatment']\n",
    "print(x)\n",
    "print(y)"
   ]
  },
  {
   "cell_type": "markdown",
   "metadata": {},
   "source": [
    "Checking for null values"
   ]
  },
  {
   "cell_type": "code",
   "execution_count": 5,
   "metadata": {},
   "outputs": [
    {
     "data": {
      "text/plain": [
       "sex                    0\n",
       "age                    0\n",
       "Time                   0\n",
       "Number_of_Warts        0\n",
       "Type                   0\n",
       "Area                   0\n",
       "Result_of_Treatment    0\n",
       "dtype: int64"
      ]
     },
     "execution_count": 5,
     "metadata": {},
     "output_type": "execute_result"
    }
   ],
   "source": [
    "df.isnull().sum()"
   ]
  },
  {
   "cell_type": "markdown",
   "metadata": {},
   "source": [
    "# Train Test Split"
   ]
  },
  {
   "cell_type": "code",
   "execution_count": 8,
   "metadata": {},
   "outputs": [
    {
     "name": "stdout",
     "output_type": "stream",
     "text": [
      "(90, 6) (90,) (81, 6) (9, 6) (81,) (9,)\n"
     ]
    }
   ],
   "source": [
    "'''code to split , test_size = 0.1 means 10% of dataset goes for testing \n",
    "   and rest goes for training.\n",
    "   stratify is used to split the data in a stratified fashion, using this as the class labels.\n",
    "   train_test_split will assign rows randomly for training and testing dataset at every epoch\n",
    "   because of this we set random_state attribute.\n",
    "   Once random_state is assigned some value, for each itration,same rows which were assigned inintially \n",
    "   will go for training and testing'''\n",
    "\n",
    "x_train,x_test,y_train,y_test = train_test_split(x,y,test_size=0.1,stratify = y,random_state = 42, shuffle = True)\n",
    "print(x.shape,y.shape,x_train.shape,x_test.shape,y_train.shape, y_test.shape) "
   ]
  },
  {
   "cell_type": "markdown",
   "metadata": {},
   "source": [
    "Implementing Multilayer Perceptron model and calculating score"
   ]
  },
  {
   "cell_type": "code",
   "execution_count": 17,
   "metadata": {},
   "outputs": [
    {
     "name": "stdout",
     "output_type": "stream",
     "text": [
      "Score : 0.8888888888888888\n"
     ]
    }
   ],
   "source": [
    "from sklearn.neural_network import MLPClassifier\n",
    "from sklearn.datasets import make_classification\n",
    "clf = MLPClassifier(random_state=42, max_iter=3000).fit(x_train, y_train)\n",
    "predict = clf.predict(x_test)\n",
    "print(\"Score :\",clf.score(x_test, y_test))"
   ]
  },
  {
   "cell_type": "markdown",
   "metadata": {},
   "source": [
    "Confusion Matrix"
   ]
  },
  {
   "cell_type": "code",
   "execution_count": 16,
   "metadata": {},
   "outputs": [
    {
     "name": "stdout",
     "output_type": "stream",
     "text": [
      "Confusion Matrix : \n",
      " [[4 1]\n",
      " [0 4]]\n"
     ]
    }
   ],
   "source": [
    "from sklearn.metrics import confusion_matrix\n",
    "x = confusion_matrix(predict,y_test)\n",
    "print(\"Confusion Matrix : \\n\",x)"
   ]
  },
  {
   "cell_type": "markdown",
   "metadata": {},
   "source": [
    "Finding the accuracy of our model"
   ]
  },
  {
   "cell_type": "code",
   "execution_count": 11,
   "metadata": {},
   "outputs": [
    {
     "name": "stdout",
     "output_type": "stream",
     "text": [
      "Accuracy :  88.89 %\n"
     ]
    }
   ],
   "source": [
    "from sklearn.metrics import accuracy_score\n",
    "aayush = accuracy_score(y_test, predict)\n",
    "print(\"Accuracy : \",'%.2f'%(aayush*100),\"%\")"
   ]
  }
 ],
 "metadata": {
  "kernelspec": {
   "display_name": "Python 3",
   "language": "python",
   "name": "python3"
  },
  "language_info": {
   "codemirror_mode": {
    "name": "ipython",
    "version": 3
   },
   "file_extension": ".py",
   "mimetype": "text/x-python",
   "name": "python",
   "nbconvert_exporter": "python",
   "pygments_lexer": "ipython3",
   "version": "3.8.3"
  }
 },
 "nbformat": 4,
 "nbformat_minor": 4
}
